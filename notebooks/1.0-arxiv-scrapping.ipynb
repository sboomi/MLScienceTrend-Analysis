{
 "cells": [
  {
   "cell_type": "code",
   "execution_count": 10,
   "id": "7e7f868b-2779-42cf-9f04-ca2ddae6bdb3",
   "metadata": {},
   "outputs": [],
   "source": [
    "import requests\n",
    "from bs4 import BeautifulSoup\n",
    "import pandas as pd\n",
    "from pathlib import Path"
   ]
  },
  {
   "cell_type": "code",
   "execution_count": 5,
   "id": "3d8c1c19-4f81-41d0-afa7-3ba5015a8c63",
   "metadata": {},
   "outputs": [
    {
     "name": "stdout",
     "output_type": "stream",
     "text": [
      "D:\\shadi\\PythonProjects\\science-trend\\analysis\n",
      "D:\\shadi\\PythonProjects\\science-trend\n",
      "D:\\shadi\\PythonProjects\n",
      "D:\\shadi\n",
      "D:\\\n",
      "DATA PATH D:\\shadi\\PythonProjects\\science-trend\\analysis\\data\n",
      "DATA ELS D:\\shadi\\PythonProjects\\science-trend\\analysis\\data\\raw\\.gitkeep\n",
      "DATA ELS D:\\shadi\\PythonProjects\\science-trend\\analysis\\data\\raw\\ml4physics.csv\n",
      "DATA ELS D:\\shadi\\PythonProjects\\science-trend\\analysis\\data\\raw\\neurips.csv\n",
      "DATA ELS D:\\shadi\\PythonProjects\\science-trend\\analysis\\data\\raw\\neurips_info.csv\n"
     ]
    }
   ],
   "source": [
    "is_done = True\n",
    "i = 0\n",
    "data_path = None\n",
    "\n",
    "while is_done:\n",
    "    try:\n",
    "        current_path = Path().resolve().parents[i]\n",
    "    except IndexError:\n",
    "        is_done = False\n",
    "    else:\n",
    "        print(current_path)\n",
    "        if any([fn.name == \"data\" for fn in current_path.iterdir()]):\n",
    "            data_path = current_path / \"data\"\n",
    "    finally:\n",
    "        i += 1\n",
    "        \n",
    "print(\"DATA PATH\", data_path)\n",
    "\n",
    "data_path /= \"raw\"\n",
    "\n",
    "for fn in data_path.iterdir():\n",
    "    print(\"DATA ELS\", fn)"
   ]
  },
  {
   "cell_type": "code",
   "execution_count": 6,
   "id": "49484d67-1803-42cd-8160-2c7a6803d01b",
   "metadata": {},
   "outputs": [
    {
     "name": "stdout",
     "output_type": "stream",
     "text": [
      "[WindowsPath('D:/shadi/PythonProjects/science-trend/analysis/data/raw/ml4physics.csv'), WindowsPath('D:/shadi/PythonProjects/science-trend/analysis/data/raw/neurips.csv'), WindowsPath('D:/shadi/PythonProjects/science-trend/analysis/data/raw/neurips_info.csv')]\n"
     ]
    }
   ],
   "source": [
    "csvs = [fn for fn in data_path.iterdir() if fn.suffix == \".csv\"]\n",
    "print(csvs)"
   ]
  },
  {
   "cell_type": "code",
   "execution_count": 8,
   "id": "1b732731-5a3b-407d-8aa1-7ace2dc508dd",
   "metadata": {},
   "outputs": [
    {
     "data": {
      "text/html": [
       "<div>\n",
       "<style scoped>\n",
       "    .dataframe tbody tr th:only-of-type {\n",
       "        vertical-align: middle;\n",
       "    }\n",
       "\n",
       "    .dataframe tbody tr th {\n",
       "        vertical-align: top;\n",
       "    }\n",
       "\n",
       "    .dataframe thead th {\n",
       "        text-align: right;\n",
       "    }\n",
       "</style>\n",
       "<table border=\"1\" class=\"dataframe\">\n",
       "  <thead>\n",
       "    <tr style=\"text-align: right;\">\n",
       "      <th></th>\n",
       "      <th>title</th>\n",
       "      <th>authors</th>\n",
       "      <th>year</th>\n",
       "    </tr>\n",
       "  </thead>\n",
       "  <tbody>\n",
       "    <tr>\n",
       "      <th>0</th>\n",
       "      <td>Adversarial learning to eliminate systematic e...</td>\n",
       "      <td>Victor Estrade, Cecile Germain, Isabelle Guyon...</td>\n",
       "      <td>2017</td>\n",
       "    </tr>\n",
       "    <tr>\n",
       "      <th>1</th>\n",
       "      <td>Variational Inference over Non-differentiable ...</td>\n",
       "      <td>Adam McCarthy, Blanca Rodriguez and Ana Minchole</td>\n",
       "      <td>2017</td>\n",
       "    </tr>\n",
       "    <tr>\n",
       "      <th>2</th>\n",
       "      <td>Deep topology classifiers for a more efficient...</td>\n",
       "      <td>Daniel Weitekamp III, Thong Q. Nguyen, Dustin ...</td>\n",
       "      <td>2017</td>\n",
       "    </tr>\n",
       "    <tr>\n",
       "      <th>3</th>\n",
       "      <td>Nanophotonic Particle Simulation and Inverse D...</td>\n",
       "      <td>John Peurifoy, Yichen Shen, Li Jing, Yi Yang, ...</td>\n",
       "      <td>2017</td>\n",
       "    </tr>\n",
       "    <tr>\n",
       "      <th>4</th>\n",
       "      <td>FlareNet: A Deep Learning Framework for Solar ...</td>\n",
       "      <td>Sean McGregor, Dattaraj Dhuri, Anamaria Berea ...</td>\n",
       "      <td>2017</td>\n",
       "    </tr>\n",
       "  </tbody>\n",
       "</table>\n",
       "</div>"
      ],
      "text/plain": [
       "                                               title  \\\n",
       "0  Adversarial learning to eliminate systematic e...   \n",
       "1  Variational Inference over Non-differentiable ...   \n",
       "2  Deep topology classifiers for a more efficient...   \n",
       "3  Nanophotonic Particle Simulation and Inverse D...   \n",
       "4  FlareNet: A Deep Learning Framework for Solar ...   \n",
       "\n",
       "                                             authors  year  \n",
       "0  Victor Estrade, Cecile Germain, Isabelle Guyon...  2017  \n",
       "1   Adam McCarthy, Blanca Rodriguez and Ana Minchole  2017  \n",
       "2  Daniel Weitekamp III, Thong Q. Nguyen, Dustin ...  2017  \n",
       "3  John Peurifoy, Yichen Shen, Li Jing, Yi Yang, ...  2017  \n",
       "4  Sean McGregor, Dattaraj Dhuri, Anamaria Berea ...  2017  "
      ]
     },
     "execution_count": 8,
     "metadata": {},
     "output_type": "execute_result"
    }
   ],
   "source": [
    "df = pd.read_csv(csvs[0])\n",
    "df.head()"
   ]
  },
  {
   "cell_type": "code",
   "execution_count": 11,
   "id": "bd241bb9-7309-49c8-8f22-09e72115343b",
   "metadata": {},
   "outputs": [
    {
     "name": "stdout",
     "output_type": "stream",
     "text": [
      "<Response [200]>\n"
     ]
    }
   ],
   "source": [
    "ARXIV_URL=\"https://arxiv.org\"\n",
    "\n",
    "r = requests.get(ARXIV_URL)\n",
    "print(r)"
   ]
  },
  {
   "cell_type": "code",
   "execution_count": 14,
   "id": "87e9e51b-596e-44ca-a1fa-3f5385872eb8",
   "metadata": {},
   "outputs": [
    {
     "name": "stdout",
     "output_type": "stream",
     "text": [
      "<?xml version=\"1.0\" encoding=\"UTF-8\"?>\n",
      "<!DOCTYPE html PUBLIC \"-//W3C//DTD XHTML 1.0 Transitional//EN\" \"http://www.w3.org/TR/xhtml1/DTD/xhtml1-transitional.dtd\">\n",
      "<html lang=\"en\" xml:lang=\"en\" xmlns=\"ht\n"
     ]
    }
   ],
   "source": [
    "soup = BeautifulSoup(r.content, 'html.parser')\n",
    "\n",
    "print(soup.prettify()[:200])"
   ]
  },
  {
   "cell_type": "code",
   "execution_count": 52,
   "id": "9dad084a-b557-468d-9ea9-89e1e8d5e6c6",
   "metadata": {},
   "outputs": [
    {
     "data": {
      "text/html": [
       "<div>\n",
       "<style scoped>\n",
       "    .dataframe tbody tr th:only-of-type {\n",
       "        vertical-align: middle;\n",
       "    }\n",
       "\n",
       "    .dataframe tbody tr th {\n",
       "        vertical-align: top;\n",
       "    }\n",
       "\n",
       "    .dataframe thead th {\n",
       "        text-align: right;\n",
       "    }\n",
       "</style>\n",
       "<table border=\"1\" class=\"dataframe\">\n",
       "  <thead>\n",
       "    <tr style=\"text-align: right;\">\n",
       "      <th></th>\n",
       "      <th>link</th>\n",
       "      <th>name</th>\n",
       "    </tr>\n",
       "  </thead>\n",
       "  <tbody>\n",
       "    <tr>\n",
       "      <th>0</th>\n",
       "      <td>https://arxiv.org/archive/astro-ph</td>\n",
       "      <td>Astrophysics</td>\n",
       "    </tr>\n",
       "    <tr>\n",
       "      <th>1</th>\n",
       "      <td>https://arxiv.org/list/astro-ph/new</td>\n",
       "      <td>new</td>\n",
       "    </tr>\n",
       "    <tr>\n",
       "      <th>2</th>\n",
       "      <td>https://arxiv.org/list/astro-ph/recent</td>\n",
       "      <td>recent</td>\n",
       "    </tr>\n",
       "    <tr>\n",
       "      <th>3</th>\n",
       "      <td>https://arxiv.org/search/astro-ph</td>\n",
       "      <td>search</td>\n",
       "    </tr>\n",
       "    <tr>\n",
       "      <th>4</th>\n",
       "      <td>https://arxiv.org/archive/cond-mat</td>\n",
       "      <td>Condensed Matter</td>\n",
       "    </tr>\n",
       "    <tr>\n",
       "      <th>5</th>\n",
       "      <td>https://arxiv.org/list/cond-mat/new</td>\n",
       "      <td>new</td>\n",
       "    </tr>\n",
       "    <tr>\n",
       "      <th>6</th>\n",
       "      <td>https://arxiv.org/list/cond-mat/recent</td>\n",
       "      <td>recent</td>\n",
       "    </tr>\n",
       "    <tr>\n",
       "      <th>7</th>\n",
       "      <td>https://arxiv.org/search/cond-mat</td>\n",
       "      <td>search</td>\n",
       "    </tr>\n",
       "    <tr>\n",
       "      <th>8</th>\n",
       "      <td>https://arxiv.org/list/cond-mat.dis-nn/recent</td>\n",
       "      <td>Disordered Systems and Neural Networks</td>\n",
       "    </tr>\n",
       "    <tr>\n",
       "      <th>9</th>\n",
       "      <td>https://arxiv.org/list/cond-mat.mtrl-sci/recent</td>\n",
       "      <td>Materials Science</td>\n",
       "    </tr>\n",
       "  </tbody>\n",
       "</table>\n",
       "</div>"
      ],
      "text/plain": [
       "                                              link  \\\n",
       "0               https://arxiv.org/archive/astro-ph   \n",
       "1              https://arxiv.org/list/astro-ph/new   \n",
       "2           https://arxiv.org/list/astro-ph/recent   \n",
       "3                https://arxiv.org/search/astro-ph   \n",
       "4               https://arxiv.org/archive/cond-mat   \n",
       "5              https://arxiv.org/list/cond-mat/new   \n",
       "6           https://arxiv.org/list/cond-mat/recent   \n",
       "7                https://arxiv.org/search/cond-mat   \n",
       "8    https://arxiv.org/list/cond-mat.dis-nn/recent   \n",
       "9  https://arxiv.org/list/cond-mat.mtrl-sci/recent   \n",
       "\n",
       "                                     name  \n",
       "0                            Astrophysics  \n",
       "1                                     new  \n",
       "2                                  recent  \n",
       "3                                  search  \n",
       "4                        Condensed Matter  \n",
       "5                                     new  \n",
       "6                                  recent  \n",
       "7                                  search  \n",
       "8  Disordered Systems and Neural Networks  \n",
       "9                       Materials Science  "
      ]
     },
     "execution_count": 52,
     "metadata": {},
     "output_type": "execute_result"
    }
   ],
   "source": [
    "data = {\n",
    "    \"link\": [],\n",
    "    \"name\": []\n",
    "}\n",
    "\n",
    "filter_domains = [\"Login\", \"Help Pages\", \"About\", \"new\"]\n",
    "\n",
    "for link in soup.select('div#content > h2:not(:last-of-type) + ul > li > a'):\n",
    "    href = link[\"href\"]\n",
    "    name = link.text\n",
    "    \n",
    "    href = (ARXIV_URL + href if \"arxiv\" not in href else href)\n",
    "    \n",
    "    data[\"link\"].append(href)\n",
    "    data[\"name\"].append(name)\n",
    "    \n",
    "    \n",
    "df = pd.DataFrame(data)\n",
    "df.head(10)"
   ]
  },
  {
   "cell_type": "code",
   "execution_count": 54,
   "id": "d7fa4f64-79bb-4a38-88e7-0dffb7b412d8",
   "metadata": {},
   "outputs": [
    {
     "data": {
      "text/html": [
       "<div>\n",
       "<style scoped>\n",
       "    .dataframe tbody tr th:only-of-type {\n",
       "        vertical-align: middle;\n",
       "    }\n",
       "\n",
       "    .dataframe tbody tr th {\n",
       "        vertical-align: top;\n",
       "    }\n",
       "\n",
       "    .dataframe thead th {\n",
       "        text-align: right;\n",
       "    }\n",
       "</style>\n",
       "<table border=\"1\" class=\"dataframe\">\n",
       "  <thead>\n",
       "    <tr style=\"text-align: right;\">\n",
       "      <th></th>\n",
       "      <th>link</th>\n",
       "      <th>name</th>\n",
       "    </tr>\n",
       "  </thead>\n",
       "  <tbody>\n",
       "    <tr>\n",
       "      <th>1</th>\n",
       "      <td>https://arxiv.org/list/astro-ph/new</td>\n",
       "      <td>new</td>\n",
       "    </tr>\n",
       "    <tr>\n",
       "      <th>5</th>\n",
       "      <td>https://arxiv.org/list/cond-mat/new</td>\n",
       "      <td>new</td>\n",
       "    </tr>\n",
       "    <tr>\n",
       "      <th>18</th>\n",
       "      <td>https://arxiv.org/list/gr-qc/new</td>\n",
       "      <td>new</td>\n",
       "    </tr>\n",
       "    <tr>\n",
       "      <th>22</th>\n",
       "      <td>https://arxiv.org/list/hep-ex/new</td>\n",
       "      <td>new</td>\n",
       "    </tr>\n",
       "    <tr>\n",
       "      <th>26</th>\n",
       "      <td>https://arxiv.org/list/hep-lat/new</td>\n",
       "      <td>new</td>\n",
       "    </tr>\n",
       "    <tr>\n",
       "      <th>30</th>\n",
       "      <td>https://arxiv.org/list/hep-ph/new</td>\n",
       "      <td>new</td>\n",
       "    </tr>\n",
       "    <tr>\n",
       "      <th>34</th>\n",
       "      <td>https://arxiv.org/list/hep-th/new</td>\n",
       "      <td>new</td>\n",
       "    </tr>\n",
       "    <tr>\n",
       "      <th>38</th>\n",
       "      <td>https://arxiv.org/list/math-ph/new</td>\n",
       "      <td>new</td>\n",
       "    </tr>\n",
       "    <tr>\n",
       "      <th>42</th>\n",
       "      <td>https://arxiv.org/list/nlin/new</td>\n",
       "      <td>new</td>\n",
       "    </tr>\n",
       "    <tr>\n",
       "      <th>51</th>\n",
       "      <td>https://arxiv.org/list/nucl-ex/new</td>\n",
       "      <td>new</td>\n",
       "    </tr>\n",
       "    <tr>\n",
       "      <th>55</th>\n",
       "      <td>https://arxiv.org/list/nucl-th/new</td>\n",
       "      <td>new</td>\n",
       "    </tr>\n",
       "    <tr>\n",
       "      <th>59</th>\n",
       "      <td>https://arxiv.org/list/physics/new</td>\n",
       "      <td>new</td>\n",
       "    </tr>\n",
       "    <tr>\n",
       "      <th>85</th>\n",
       "      <td>https://arxiv.org/list/quant-ph/new</td>\n",
       "      <td>new</td>\n",
       "    </tr>\n",
       "    <tr>\n",
       "      <th>89</th>\n",
       "      <td>https://arxiv.org/list/math/new</td>\n",
       "      <td>new</td>\n",
       "    </tr>\n",
       "    <tr>\n",
       "      <th>126</th>\n",
       "      <td>https://arxiv.org/list/cs/new</td>\n",
       "      <td>new</td>\n",
       "    </tr>\n",
       "    <tr>\n",
       "      <th>171</th>\n",
       "      <td>https://arxiv.org/list/q-bio/new</td>\n",
       "      <td>new</td>\n",
       "    </tr>\n",
       "    <tr>\n",
       "      <th>186</th>\n",
       "      <td>https://arxiv.org/list/q-fin/new</td>\n",
       "      <td>new</td>\n",
       "    </tr>\n",
       "    <tr>\n",
       "      <th>200</th>\n",
       "      <td>https://arxiv.org/list/stat/new</td>\n",
       "      <td>new</td>\n",
       "    </tr>\n",
       "    <tr>\n",
       "      <th>211</th>\n",
       "      <td>https://arxiv.org/list/eess/new</td>\n",
       "      <td>new</td>\n",
       "    </tr>\n",
       "    <tr>\n",
       "      <th>220</th>\n",
       "      <td>https://arxiv.org/list/econ/new</td>\n",
       "      <td>new</td>\n",
       "    </tr>\n",
       "  </tbody>\n",
       "</table>\n",
       "</div>"
      ],
      "text/plain": [
       "                                    link name\n",
       "1    https://arxiv.org/list/astro-ph/new  new\n",
       "5    https://arxiv.org/list/cond-mat/new  new\n",
       "18      https://arxiv.org/list/gr-qc/new  new\n",
       "22     https://arxiv.org/list/hep-ex/new  new\n",
       "26    https://arxiv.org/list/hep-lat/new  new\n",
       "30     https://arxiv.org/list/hep-ph/new  new\n",
       "34     https://arxiv.org/list/hep-th/new  new\n",
       "38    https://arxiv.org/list/math-ph/new  new\n",
       "42       https://arxiv.org/list/nlin/new  new\n",
       "51    https://arxiv.org/list/nucl-ex/new  new\n",
       "55    https://arxiv.org/list/nucl-th/new  new\n",
       "59    https://arxiv.org/list/physics/new  new\n",
       "85   https://arxiv.org/list/quant-ph/new  new\n",
       "89       https://arxiv.org/list/math/new  new\n",
       "126        https://arxiv.org/list/cs/new  new\n",
       "171     https://arxiv.org/list/q-bio/new  new\n",
       "186     https://arxiv.org/list/q-fin/new  new\n",
       "200      https://arxiv.org/list/stat/new  new\n",
       "211      https://arxiv.org/list/eess/new  new\n",
       "220      https://arxiv.org/list/econ/new  new"
      ]
     },
     "execution_count": 54,
     "metadata": {},
     "output_type": "execute_result"
    }
   ],
   "source": [
    "[\"new\", \"recent\", \"search\"]\n",
    "\n",
    "df[df.name == \"new\"]"
   ]
  },
  {
   "cell_type": "code",
   "execution_count": 64,
   "id": "8d0e271a-0801-4890-902b-9d8168351c9f",
   "metadata": {},
   "outputs": [],
   "source": [
    "df.to_csv('arxiv_urls.csv', index=None)"
   ]
  },
  {
   "cell_type": "code",
   "execution_count": 55,
   "id": "0f5e4836-22c3-4721-8097-79614a6df97e",
   "metadata": {},
   "outputs": [
    {
     "name": "stdout",
     "output_type": "stream",
     "text": [
      "http://www.Python.org/doc/\n",
      "http://www.Python.org/doc/\n"
     ]
    }
   ],
   "source": [
    "from urllib.parse import urlsplit\n",
    "url = 'HTTP://www.Python.org/doc/#'\n",
    "r1 = urlsplit(url)\n",
    "print(r1.geturl())\n",
    "\n",
    "r2 = urlsplit(r1.geturl())\n",
    "print(r2.geturl())\n"
   ]
  },
  {
   "cell_type": "code",
   "execution_count": 56,
   "id": "bbe2937e-78ae-4230-a3f4-72ca2484f13e",
   "metadata": {},
   "outputs": [
    {
     "name": "stdout",
     "output_type": "stream",
     "text": [
      "ParseResult(scheme='http', netloc='www.cwi.nl:80', path='/%7Eguido/Python.html', params='', query='', fragment='')\n",
      "http\n",
      "80\n",
      "http://www.cwi.nl:80/%7Eguido/Python.html\n"
     ]
    }
   ],
   "source": [
    "from urllib.parse import urlparse\n",
    "o = urlparse('http://www.cwi.nl:80/%7Eguido/Python.html')\n",
    "print(o)   \n",
    "\n",
    "\n",
    "print(o.scheme)\n",
    "\n",
    "print(o.port)\n",
    "\n",
    "print(o.geturl())"
   ]
  },
  {
   "cell_type": "code",
   "execution_count": 58,
   "id": "452a57fb-4809-4cb9-8ca5-ae5f4623d2c4",
   "metadata": {},
   "outputs": [
    {
     "data": {
      "text/plain": [
       "SplitResult(scheme='https', netloc='arxiv.org', path='/list/astro-ph/new', query='', fragment='')"
      ]
     },
     "execution_count": 58,
     "metadata": {},
     "output_type": "execute_result"
    }
   ],
   "source": [
    "from urllib.parse import urlsplit\n",
    "urlsplit(\"https://arxiv.org/list/astro-ph/new\")"
   ]
  },
  {
   "cell_type": "code",
   "execution_count": 63,
   "id": "f2dfb982-ee73-4b85-9191-89551308bf91",
   "metadata": {},
   "outputs": [
    {
     "name": "stdout",
     "output_type": "stream",
     "text": [
      "This website probably doesn't have any request rate\n",
      "None\n",
      "15\n",
      "True\n",
      "True\n"
     ]
    }
   ],
   "source": [
    "import urllib.robotparser\n",
    "rp = urllib.robotparser.RobotFileParser()\n",
    "rp.set_url(\"https://arxiv.org/robots.txt\")\n",
    "rp.read()\n",
    "rrate = rp.request_rate(\"*\")\n",
    "try:\n",
    "    print(rrate.requests)\n",
    "    print(rrate.seconds)\n",
    "except AttributeError:\n",
    "    print(\"This website probably doesn't have any request rate\")\n",
    "    print(rrate)\n",
    "\n",
    "print(rp.crawl_delay(\"*\"))\n",
    "print(rp.can_fetch(\"*\", \"http://www.musi-cal.com/cgi-bin/search?city=San+Francisco\"))\n",
    "print(rp.can_fetch(\"*\", \"http://www.musi-cal.com/\"))"
   ]
  },
  {
   "cell_type": "code",
   "execution_count": null,
   "id": "50b5f4bc-b744-4e1a-adea-20afe6761754",
   "metadata": {},
   "outputs": [],
   "source": []
  }
 ],
 "metadata": {
  "kernelspec": {
   "display_name": "Python 3 (ipykernel)",
   "language": "python",
   "name": "python3"
  },
  "language_info": {
   "codemirror_mode": {
    "name": "ipython",
    "version": 3
   },
   "file_extension": ".py",
   "mimetype": "text/x-python",
   "name": "python",
   "nbconvert_exporter": "python",
   "pygments_lexer": "ipython3",
   "version": "3.9.5"
  }
 },
 "nbformat": 4,
 "nbformat_minor": 5
}
