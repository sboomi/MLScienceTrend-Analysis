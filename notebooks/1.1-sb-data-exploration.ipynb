{
 "cells": [
  {
   "cell_type": "code",
   "execution_count": 1,
   "id": "db4d72d0-5c7f-4a0a-afd8-f7b99c05d05b",
   "metadata": {},
   "outputs": [],
   "source": [
    "import pandas as pd\n",
    "from pathlib import Path"
   ]
  },
  {
   "cell_type": "code",
   "execution_count": 2,
   "id": "1ac104d8-2b87-440f-bd7a-99a4f4e045ec",
   "metadata": {},
   "outputs": [
    {
     "name": "stdout",
     "output_type": "stream",
     "text": [
      "D:\\shadi\\PythonProjects\\science-trend\\analysis\n",
      "D:\\shadi\\PythonProjects\\science-trend\n",
      "D:\\shadi\\PythonProjects\n",
      "D:\\shadi\n",
      "D:\\\n",
      "D:\\shadi\\PythonProjects\\science-trend\\analysis\\data\n",
      "D:\\shadi\\PythonProjects\\science-trend\\analysis\\data\\raw\\.gitkeep\n",
      "D:\\shadi\\PythonProjects\\science-trend\\analysis\\data\\raw\\ml4physics.csv\n",
      "D:\\shadi\\PythonProjects\\science-trend\\analysis\\data\\raw\\neurips.csv\n"
     ]
    }
   ],
   "source": [
    "is_done = True\n",
    "i = 0\n",
    "data_path = None\n",
    "\n",
    "while is_done:\n",
    "    try:\n",
    "        current_path = Path().resolve().parents[i]\n",
    "    except IndexError:\n",
    "        is_done = False\n",
    "    else:\n",
    "        print(current_path)\n",
    "        if any([fn.name == \"data\" for fn in current_path.iterdir()]):\n",
    "            data_path = current_path / \"data\"\n",
    "    finally:\n",
    "        i += 1\n",
    "        \n",
    "print(data_path)\n",
    "\n",
    "data_path /= \"raw\"\n",
    "\n",
    "for fn in data_path.iterdir():\n",
    "    print(fn)"
   ]
  },
  {
   "cell_type": "code",
   "execution_count": 3,
   "id": "30c3d2dd-132b-453e-8027-8533127fc6d4",
   "metadata": {},
   "outputs": [
    {
     "data": {
      "text/html": [
       "<div>\n",
       "<style scoped>\n",
       "    .dataframe tbody tr th:only-of-type {\n",
       "        vertical-align: middle;\n",
       "    }\n",
       "\n",
       "    .dataframe tbody tr th {\n",
       "        vertical-align: top;\n",
       "    }\n",
       "\n",
       "    .dataframe thead th {\n",
       "        text-align: right;\n",
       "    }\n",
       "</style>\n",
       "<table border=\"1\" class=\"dataframe\">\n",
       "  <thead>\n",
       "    <tr style=\"text-align: right;\">\n",
       "      <th></th>\n",
       "      <th>hash</th>\n",
       "      <th>year</th>\n",
       "    </tr>\n",
       "  </thead>\n",
       "  <tbody>\n",
       "    <tr>\n",
       "      <th>0</th>\n",
       "      <td>02e74f10e0327ad868d138f2b4fdd6f0</td>\n",
       "      <td>1987</td>\n",
       "    </tr>\n",
       "    <tr>\n",
       "      <th>1</th>\n",
       "      <td>03afdbd66e7929b125f8597834fa83a4</td>\n",
       "      <td>1987</td>\n",
       "    </tr>\n",
       "    <tr>\n",
       "      <th>2</th>\n",
       "      <td>072b030ba126b2f4b2374f342be9ed44</td>\n",
       "      <td>1987</td>\n",
       "    </tr>\n",
       "    <tr>\n",
       "      <th>3</th>\n",
       "      <td>093f65e080a295f8076b1c5722a46aa2</td>\n",
       "      <td>1987</td>\n",
       "    </tr>\n",
       "    <tr>\n",
       "      <th>4</th>\n",
       "      <td>14bfa6bb14875e45bba028a21ed38046</td>\n",
       "      <td>1987</td>\n",
       "    </tr>\n",
       "  </tbody>\n",
       "</table>\n",
       "</div>"
      ],
      "text/plain": [
       "                               hash  year\n",
       "0  02e74f10e0327ad868d138f2b4fdd6f0  1987\n",
       "1  03afdbd66e7929b125f8597834fa83a4  1987\n",
       "2  072b030ba126b2f4b2374f342be9ed44  1987\n",
       "3  093f65e080a295f8076b1c5722a46aa2  1987\n",
       "4  14bfa6bb14875e45bba028a21ed38046  1987"
      ]
     },
     "execution_count": 3,
     "metadata": {},
     "output_type": "execute_result"
    }
   ],
   "source": [
    "csvs = [fn for fn in data_path.iterdir() if fn.suffix == \".csv\"]\n",
    "df_ml4 = pd.read_csv(csvs[0])\n",
    "df_neurips = pd.read_csv(csvs[1])\n",
    "\n",
    "df_neurips.head()"
   ]
  },
  {
   "cell_type": "markdown",
   "id": "17a47371-8b99-4c84-acc6-a79d0022b7e1",
   "metadata": {},
   "source": [
    "## Fetching abstract"
   ]
  },
  {
   "cell_type": "code",
   "execution_count": 19,
   "id": "c6ea6fea-a480-4e7b-ae3c-41f2a191631c",
   "metadata": {},
   "outputs": [],
   "source": [
    "from bs4 import BeautifulSoup\n",
    "import requests"
   ]
  },
  {
   "cell_type": "code",
   "execution_count": 20,
   "id": "885d3b7b-ed1f-4eea-8789-217c532a081e",
   "metadata": {},
   "outputs": [],
   "source": [
    "NEURIPS_URL = \"https://papers.nips.cc/\"\n",
    "\n",
    "ex = df_neurips.iloc[25]"
   ]
  },
  {
   "cell_type": "code",
   "execution_count": 21,
   "id": "82bb47d0-2368-4414-9fb5-b73e527c3f44",
   "metadata": {},
   "outputs": [
    {
     "name": "stdout",
     "output_type": "stream",
     "text": [
      "https://papers.nips.cc/paper/1987/hash/45c48cce2e2d7fbdea1afc51c7c6ad26-Abstract.html\n"
     ]
    }
   ],
   "source": [
    "url = f\"{NEURIPS_URL}paper/{ex.year}/hash/{ex.hash}-Abstract.html\"\n",
    "print(url)"
   ]
  },
  {
   "cell_type": "code",
   "execution_count": 22,
   "id": "0a688c28-5564-4b41-acff-2561e56c2306",
   "metadata": {},
   "outputs": [
    {
     "name": "stdout",
     "output_type": "stream",
     "text": [
      "<Response [200]>\n"
     ]
    }
   ],
   "source": [
    "url = \"https://papers.nips.cc/paper/2019/hash/0118a063b4aae95277f0bc1752c75abf-Abstract.html\"\n",
    "r = requests.get(url)\n",
    "\n",
    "print(r)"
   ]
  },
  {
   "cell_type": "code",
   "execution_count": 23,
   "id": "cad661ac-2d85-4abb-9f2b-1d7018856584",
   "metadata": {},
   "outputs": [
    {
     "data": {
      "text/plain": [
       "'<!DOCTYPE html>\\n<html lang=\"en\">\\n <head>\\n  <!-- Required meta tags -->\\n  <meta charset=\"utf-8\"/>\\n  <meta content=\"width=device-width, initial-scale=1, shrink-to-fit=no\" name=\"viewport\"/>\\n  <title>\\n   Multi-resolution Multi-task Gaussian Processes\\n  </title>\\n  <meta content=\"Multi-resolution Multi-task Gaussian Processes\" name=\"citation_title\"/>\\n  <meta content=\"Hamelijnck, Oliver\" name=\"citation_author\"/>\\n  <meta content=\"Damoulas, Theodoros\" name=\"citation_author\"/>\\n  <meta content=\"Wang, Kangrui\" name=\"citation_author\"/>\\n  <meta content=\"Girolami, Mark\" name=\"citation_author\"/>\\n  <meta content=\"Advances in Neural Information Processing Systems\" name=\"citation_journal_title\"/>\\n  <meta content=\"32\" name=\"citation_volume\"/>\\n  <meta content=\"https://papers.nips.cc/paper/2019/file/0118a063b4aae95277f0bc1752c75abf-Paper.pdf\" name=\"citation_pdf_url\"/>\\n  <meta content=\"2019\" name=\"citation_publication_date\"/>\\n  <!-- Bootstrap CSS -->\\n  <!-- https://codepen.io/surjithctly/pen/PJqKzQ -->\\n  <link crossorigin=\"anonymous\" href=\"https://stackpath.bootstrapcdn.com/bootstrap/4.4.1/css/bootstrap.min.css\" integrity=\"sha384-Vkoo8x4CGsO3+Hhxv8T/Q5PaXtkKtu6ug5TOeNV6gBiFeWPGFN9MuhOf23Q9Ifjh\" rel=\"stylesheet\"/>\\n  <link href=\"/static/menus/css/menus.css\" id=\"bootstrap-css\" rel=\"stylesheet\"/>\\n  <link crossorigin=\"anonymous\" href=\"https://use.fontawesome.com/releases/v5.8.1/css/all.css\" integrity=\"sha384-50oBUHEmvpQ+1lW4y57PTFmhCaXp0ML5d60M1M7uH2+nqUivzIebhndOJK28anvf\" rel=\"stylesheet\"/>\\n  <link href=\"/static/papers/css/papers.css\" rel=\"stylesheet\"/>\\n  <script async=\"\" src=\"https://cdnjs.cloudflare.com/ajax/libs/mathjax/2.7.7/latest.js?config=TeX-MML-AM_CHTML\" type=\"text/javascript\">\\n  </script>\\n  <script type=\"text/x-mathjax-config\">\\n   MathJax.Hub.Config({\\n      \"tex2jax\": {\\n        \"inlineMath\": [[\"$\",\"$\"], [\"\\\\\\\\(\",\"\\\\\\\\)\"]],\\n        \"displayMath\": [[\"\\\\\\\\[\",\"\\\\\\\\]\"]],\\n        \"processEscapes\": true\\n      }\\n    }\\n    );\\n  </script>\\n  <style>\\n   @media (prefers-color-scheme: dark) {\\n        body {\\n          background-color: #333;\\n          color: #eee;\\n        }\\n      }\\n\\n      .btn-spacer {\\n        margin: 2px;\\n      }\\n\\n      .footer {\\n        position: fixed;\\n        left: 0;\\n        bottom: 0;\\n        width: 100%;\\n        background-color: #eee;\\n        color: black;\\n      }\\n  </style>\\n </head>\\n <body>\\n  <nav class=\"navbar navbar-expand-md navbar-light bg-light\">\\n   <button aria-controls=\"navbarToggler6\" aria-expanded=\"false\" aria-label=\"Toggle navigation\" class=\"navbar-toggler\" data-target=\"#navbarToggler6\" data-toggle=\"collapse\" type=\"button\">\\n    <span class=\"navbar-toggler-icon\">\\n    </span>\\n   </button>\\n   <div class=\"collapse navbar-collapse\" id=\"navbarToggler6\">\\n    <a class=\"navbar-brand\" href=\"/\">\\n     NeurIPS Proceedings\\n    </a>\\n    <ul class=\"navbar-nav mr-auto mt-2 mt-md-0\">\\n     <li class=\"nav-item\">\\n      <a class=\"nav-link\" href=\"/admin/login/?next=/admin/\">\\n       <i class=\"fas fa-sign-in-alt\" title=\"Login\">\\n       </i>\\n      </a>\\n     </li>\\n     <li class=\"nav-item\">\\n      <a class=\"nav-link\" href=\"/admin/logout/?nextp=/admin\">\\n       <i class=\"fas fa-sign-out-alt\" title=\"Logout\">\\n       </i>\\n      </a>\\n     </li>\\n    </ul>\\n    <form action=\"/papers/search\" class=\"form-inline my-2 my-lg-0\" method=\"get\" role=\"search\">\\n     <input aria-label=\"Search\" class=\"form-control mr-sm-2\" id=\"navsearch\" name=\"q\" placeholder=\"Search\" type=\"text\"/>\\n     <button class=\"btn btn-outline-success my-2 my-sm-0\" type=\"submit\">\\n      Search\\n     </button>\\n    </form>\\n   </div>\\n  </nav>\\n  <br/>\\n  <div class=\"container-fluid\">\\n   <div class=\"col\">\\n    <h4>\\n     Multi-resolution Multi-task Gaussian Processes\\n    </h4>\\n    <p>\\n     Part of\\n     <a href=\"/paper/2019\">\\n      Advances in Neural Information Processing Systems 32  (NeurIPS 2019)\\n     </a>\\n    </p>\\n    <div>\\n     <a class=\"btn btn-light btn-sm btn-spacer\" href=\"/paper/2019/file/0118a063b4aae95277f0bc1752c75abf-AuthorFeedback.pdf\">\\n      AuthorFeedback »\\n     </a>\\n     <a class=\"btn btn-light btn-sm btn-spacer\" download=\"\" href=\"/paper/2019/file/0118a063b4aae95277f0bc1752c75abf-Bibtex.bib\">\\n      Bibtex »\\n     </a>\\n     <a class=\"btn btn-light btn-sm btn-spacer\" download=\"\" href=\"/paper/2019/file/0118a063b4aae95277f0bc1752c75abf-Bibtex.bib\">\\n      Bibtex »\\n     </a>\\n     <a class=\"btn btn-light btn-sm btn-spacer\" href=\"/paper/2019/file/0118a063b4aae95277f0bc1752c75abf-MetaReview.html\">\\n      MetaReview »\\n     </a>\\n     <a class=\"btn btn-light btn-sm btn-spacer\" href=\"/paper/2019/file/0118a063b4aae95277f0bc1752c75abf-Metadata.json\">\\n      Metadata »\\n     </a>\\n     <a class=\"btn btn-light btn-sm btn-spacer\" href=\"/paper/2019/file/0118a063b4aae95277f0bc1752c75abf-Paper.pdf\">\\n      Paper »\\n     </a>\\n     <a class=\"btn btn-light btn-sm btn-spacer\" href=\"/paper/2019/file/0118a063b4aae95277f0bc1752c75abf-Reviews.html\">\\n      Reviews »\\n     </a>\\n     <a class=\"btn btn-light btn-sm btn-spacer\" href=\"/paper/2019/file/0118a063b4aae95277f0bc1752c75abf-Supplemental.zip\">\\n      Supplemental »\\n     </a>\\n    </div>\\n    <br/>\\n    <h4>\\n     Authors\\n    </h4>\\n    <p>\\n     <i>\\n      Oliver Hamelijnck, Theodoros Damoulas, Kangrui Wang, Mark Girolami\\n     </i>\\n    </p>\\n    <h4>\\n     Abstract\\n    </h4>\\n    <p>\\n     <p>\\n      We consider evidence integration from potentially dependent observation processes under varying spatio-temporal sampling resolutions and noise levels. We offer a multi-resolution multi-task (MRGP) framework that allows for both inter-task and intra-task multi-resolution and multi-fidelity. We develop shallow Gaussian Process (GP) mixtures that approximate the difficult to estimate joint likelihood with a composite one and deep GP constructions that naturally handle biases. In doing so, we generalize existing approaches and offer information-theoretic corrections and efficient variational approximations. We demonstrate the competitiveness of MRGPs on synthetic settings and on the challenging problem of hyper-local estimation of air pollution levels across London from multiple sensing modalities operating at disparate spatio-temporal resolutions.\\n     </p>\\n    </p>\\n   </div>\\n  </div>\\n  <script crossorigin=\"anonymous\" integrity=\"sha384-J6qa4849blE2+poT4WnyKhv5vZF5SrPo0iEjwBvKU7imGFAV0wwj1yYfoRSJoZ+n\" src=\"https://code.jquery.com/jquery-3.4.1.slim.min.js\">\\n  </script>\\n  <script crossorigin=\"anonymous\" integrity=\"sha384-Q6E9RHvbIyZFJoft+2mJbHaEWldlvI9IOYy5n3zV9zzTtmI3UksdQRVvoxMfooAo\" src=\"https://cdn.jsdelivr.net/npm/popper.js@1.16.0/dist/umd/popper.min.js\">\\n  </script>\\n  <script crossorigin=\"anonymous\" integrity=\"sha384-ChfqqxuZUCnJSK3+MXmPNIyE6ZbWh2IMqE241rYiqJxyMiZ6OW/JmZQ5stwEULTy\" src=\"https://stackpath.bootstrapcdn.com/bootstrap/4.1.3/js/bootstrap.min.js\">\\n  </script>\\n  <script>\\n   $(\\'.dropdown-menu a.dropdown-toggle\\').on(\\'click\\', function(e) {\\n          if (!$(this).next().hasClass(\\'show\\')) {\\n            $(this).parents(\\'.dropdown-menu\\').first().find(\\'.show\\').removeClass(\"show\");\\n          }\\n          var $subMenu = $(this).next(\".dropdown-menu\");\\n          $subMenu.toggleClass(\\'show\\');\\n\\n\\n          $(this).parents(\\'li.nav-item.dropdown.show\\').on(\\'hidden.bs.dropdown\\', function(e) {\\n            $(\\'.dropdown-submenu .show\\').removeClass(\"show\");\\n          });\\n\\n\\n          return false;\\n        });\\n  </script>\\n </body>\\n <br/>\\n <footer class=\"footer\">\\n  <div class=\"btn-spacer\">\\n   This website is beta:\\n   <a href=\"https://neurips.cc/Help/Contact?select=Proceedings\">\\n    Report an Issue »\\n   </a>\\n  </div>\\n </footer>\\n <div class=\"hidden\">\\n  Do not remove: This comment is monitored to verify that the site is working properly\\n </div>\\n <!-- Do not remove: This comment is monitored to verify that the site is working properly -->\\n</html>'"
      ]
     },
     "execution_count": 23,
     "metadata": {},
     "output_type": "execute_result"
    }
   ],
   "source": [
    "soup =  BeautifulSoup(r.content, \"html.parser\")\n",
    "soup.prettify()"
   ]
  },
  {
   "cell_type": "code",
   "execution_count": 9,
   "id": "b6210b44-d98c-4b6f-9651-119af91bbc60",
   "metadata": {},
   "outputs": [
    {
     "data": {
      "text/plain": [
       "<div class=\"col\">\n",
       "<h4>Multi-resolution Multi-task Gaussian Processes</h4>\n",
       "<p>Part of <a href=\"/paper/2019\">Advances in Neural Information Processing Systems 32  (NeurIPS 2019)</a></p>\n",
       "<div><a class=\"btn btn-light btn-sm btn-spacer\" href=\"/paper/2019/file/0118a063b4aae95277f0bc1752c75abf-AuthorFeedback.pdf\">AuthorFeedback »</a><a class=\"btn btn-light btn-sm btn-spacer\" download=\"\" href=\"/paper/2019/file/0118a063b4aae95277f0bc1752c75abf-Bibtex.bib\">Bibtex »</a><a class=\"btn btn-light btn-sm btn-spacer\" download=\"\" href=\"/paper/2019/file/0118a063b4aae95277f0bc1752c75abf-Bibtex.bib\">Bibtex »</a><a class=\"btn btn-light btn-sm btn-spacer\" href=\"/paper/2019/file/0118a063b4aae95277f0bc1752c75abf-MetaReview.html\">MetaReview »</a><a class=\"btn btn-light btn-sm btn-spacer\" href=\"/paper/2019/file/0118a063b4aae95277f0bc1752c75abf-Metadata.json\">Metadata »</a><a class=\"btn btn-light btn-sm btn-spacer\" href=\"/paper/2019/file/0118a063b4aae95277f0bc1752c75abf-Paper.pdf\">Paper »</a><a class=\"btn btn-light btn-sm btn-spacer\" href=\"/paper/2019/file/0118a063b4aae95277f0bc1752c75abf-Reviews.html\">Reviews »</a><a class=\"btn btn-light btn-sm btn-spacer\" href=\"/paper/2019/file/0118a063b4aae95277f0bc1752c75abf-Supplemental.zip\">Supplemental »</a></div><br/>\n",
       "<h4>Authors</h4>\n",
       "<p><i>Oliver Hamelijnck, Theodoros Damoulas, Kangrui Wang, Mark Girolami</i></p>\n",
       "<h4>Abstract</h4>\n",
       "<p><p>We consider evidence integration from potentially dependent observation processes under varying spatio-temporal sampling resolutions and noise levels. We offer a multi-resolution multi-task (MRGP) framework that allows for both inter-task and intra-task multi-resolution and multi-fidelity. We develop shallow Gaussian Process (GP) mixtures that approximate the difficult to estimate joint likelihood with a composite one and deep GP constructions that naturally handle biases. In doing so, we generalize existing approaches and offer information-theoretic corrections and efficient variational approximations. We demonstrate the competitiveness of MRGPs on synthetic settings and on the challenging problem of hyper-local estimation of air pollution levels across London from multiple sensing modalities operating at disparate spatio-temporal resolutions.</p>\n",
       "</p>\n",
       "</div>"
      ]
     },
     "execution_count": 9,
     "metadata": {},
     "output_type": "execute_result"
    }
   ],
   "source": [
    "soup.select_one(\"div.col\")"
   ]
  },
  {
   "cell_type": "code",
   "execution_count": 16,
   "id": "6e6d544d-97f1-47c7-882f-75444c0553b0",
   "metadata": {},
   "outputs": [],
   "source": [
    "from sqlalchemy import create_engine, Column, Integer, String, Text, ForeignKey\n",
    "from sqlalchemy.orm import declarative_base, sessionmaker, relationship\n",
    "\n",
    "Base = declarative_base()\n",
    "engine = create_engine('sqlite:///neurips_info.db')\n",
    "Session = sessionmaker(engine)\n",
    "\n",
    "class Papers(Base):\n",
    "    __tablename__ = 'papers'\n",
    "\n",
    "    id = Column(Integer, primary_key=True)\n",
    "    hash = Column(String, nullable=False)\n",
    "    year = Column(Integer, nullable=False)\n",
    "    title = Column(String)\n",
    "    authors = relationship(\"Authors\")\n",
    "    abstract = Column(Text)\n",
    "    \n",
    "    def __repr__(self):\n",
    "        return f\"Paper(hash={self.hash}, year={self.year})\"\n",
    "    \n",
    "class Authors(Base):\n",
    "    __tablename__ = 'authors'\n",
    "    id = Column(Integer, primary_key=True)\n",
    "    firstname = Column(String, nullable=False)\n",
    "    lastname = Column(String, nullable=False)\n",
    "    paper = Column(Integer, ForeignKey('papers.id'))\n",
    "    \n",
    "    def __repr__(self):\n",
    "        return f\"{self.firstname} {self.lastname}\"\n",
    "\n",
    "Base.metadata.create_all(engine)"
   ]
  },
  {
   "cell_type": "code",
   "execution_count": 17,
   "id": "e5fe1a3a-d677-46de-accc-881078a66f3e",
   "metadata": {},
   "outputs": [],
   "source": [
    "from bs4.element import Tag\n",
    "from typing import Optional, Dict\n",
    "from tqdm.notebook import trange, tqdm\n",
    "from collections import namedtuple \n",
    "\n",
    "def create_paper_dict() -> Dict:\n",
    "    return {\"title\": \"\",\n",
    "            \"authors\": \"\",\n",
    "            \"abstract\": \"\",\n",
    "           }\n",
    "\n",
    "def extract_text(el: Optional[Tag]) -> str:\n",
    "    if el:\n",
    "        return el.text.strip()\n",
    "    \n",
    "    return \"\"\n",
    "\n",
    "def author_entry(author: str) -> Authors:\n",
    "    author = author.strip()\n",
    "    firstname, lastname = \" \".join(author.split()[:-1]), author.split()[-1]\n",
    "    return Authors(firstname=firstname, lastname=lastname)"
   ]
  },
  {
   "cell_type": "code",
   "execution_count": 56,
   "id": "b3a67d60-e957-448b-8c31-48d82a859a76",
   "metadata": {},
   "outputs": [
    {
     "name": "stdout",
     "output_type": "stream",
     "text": [
      "Paper(hash=0118a063b4aae95277f0bc1752c75abf, year=2019)\n",
      "{'title': ['Limits to Depth Efficiencies of Self-Attention'], 'authors': ['Yoav Levine, Noam Wies, Or Sharir, Hofit Bata, Amnon Shashua'], 'abstract': ['Self-attention architectures, which are rapidly pushing the frontier in natural language processing, demonstrate a surprising depth-inefficient behavior: Empirical signals indicate that increasing the internal representation (network width) is just as useful as increasing the number of self-attention layers (network depth). In this paper, we theoretically study the interplay between depth and width in self-attention. We shed light on the root of the above phenomenon, and establish two distinct parameter regimes of depth efficiency and inefficiency in self-attention. We invalidate the seemingly plausible hypothesis by which widening is as effective as deepening for self-attention, and show that in fact stacking self-attention layers is so effective that it quickly saturates a capacity of the network width. Specifically, we pinpoint a ``depth threshold\" that is logarithmic in the network width: for networks of depth that is below the threshold, we establish a double-exponential depth-efficiency of the self-attention operation, while for depths over the threshold we show that depth-inefficiency kicks in. Our predictions accord with existing empirical ablations, and we further demonstrate the two depth-(in)efficiency regimes experimentally for common network depths of 6, 12, and 24. By identifying network width as a limiting factor, our analysis indicates that solutions for dramatically increasing the width can facilitate the next leap in self-attention expressivity.']}\n",
      "1\n"
     ]
    }
   ],
   "source": [
    "data =  {\n",
    "    \"title\": [],\n",
    "    \"authors\": [],\n",
    "    \"abstract\": []\n",
    "}\n",
    "\n",
    "paper_dict = create_paper_dict()\n",
    "for title, content in zip(soup.select(\"div.col h4\"), soup.select(\"div.col h4 + p\")):\n",
    "    \n",
    "    title, content = extract_text(title), extract_text(content)\n",
    "    \n",
    "\n",
    "    if \"part of\" in content.lower():\n",
    "        paper_dict['title'] = title\n",
    "    elif \"authors\" in title.lower():\n",
    "        paper_dict['authors'] = content\n",
    "    elif \"abstract\" in title.lower():\n",
    "        paper_dict['abstract'] = content\n",
    "        \n",
    "paper = Papers(hash=\"0118a063b4aae95277f0bc1752c75abf\", \n",
    "               year=2019, \n",
    "               title=paper_dict['title'], \n",
    "               abstract=paper_dict['abstract'], \n",
    "               authors=[author_entry(author) for author in paper_dict['authors'].split(\",\")])\n",
    "print(paper)\n",
    "        \n",
    "    \n",
    "data['title'].append(paper_dict['title'])\n",
    "data['authors'].append(paper_dict['authors'])\n",
    "data['abstract'].append(paper_dict['abstract'])\n",
    "        \n",
    "print(data)\n",
    "print(len(data['title']))"
   ]
  },
  {
   "cell_type": "code",
   "execution_count": 30,
   "id": "b107f422-7967-4202-a7fe-3b6fe387bc17",
   "metadata": {},
   "outputs": [
    {
     "data": {
      "application/vnd.jupyter.widget-view+json": {
       "model_id": "a60da3402baf48d3be5c0ae26bb32512",
       "version_major": 2,
       "version_minor": 0
      },
      "text/plain": [
       "Scraping abstracts:   0%|          | 0/11578 [00:00<?, ?hash/s]"
      ]
     },
     "metadata": {},
     "output_type": "display_data"
    }
   ],
   "source": [
    "session = Session()\n",
    "\n",
    "for i, row in tqdm(df_neurips.iterrows(), desc=\"Scraping abstracts\", total=df_neurips.shape[0], unit=\"hash\"):\n",
    "    paper = session.query(Papers).filter_by(hash=row.hash)\n",
    "    \n",
    "    if not paper:\n",
    "        paper_dict = create_paper_dict()\n",
    "        url = f\"{NEURIPS_URL}paper/{row.year}/hash/{row.hash}-Abstract.html\"\n",
    "        r = requests.get(url)\n",
    "        if r.status_code == 200:\n",
    "            soup =  BeautifulSoup(r.content, \"html.parser\")\n",
    "            for title, content in zip(soup.select(\"div.col h4\"), soup.select(\"div.col h4 + p\")):\n",
    "                title, content = extract_text(title), extract_text(content)\n",
    "\n",
    "                if \"part of\" in content.lower():\n",
    "                    paper_dict['title'] = title\n",
    "                elif \"authors\" in title.lower():\n",
    "                    paper_dict['authors'] = content\n",
    "                elif \"abstract\" in title.lower():\n",
    "                    paper_dict['abstract'] = content\n",
    "\n",
    "            # SQL part\n",
    "            paper = Papers(hash=row.hash, \n",
    "                   year=int(row.year), \n",
    "                   title=paper_dict['title'], \n",
    "                   abstract=paper_dict['abstract'], \n",
    "                   authors=([author_entry(author) for author in paper_dict['authors'].split(\",\")] if paper_dict['authors'] else []))\n",
    "\n",
    "        else:\n",
    "            print(f\"ERROR. Something went wrong with paper {row.hash} (url = {url}, error code = {r.status_code})\")\n",
    "            paper = Papers(hash=row.hash, \n",
    "                   year=int(row.year))\n",
    "\n",
    "        session.add(paper)\n",
    "           \n",
    "session.commit()\n",
    "# df = pd.DataFrame(data)\n",
    "# df.to_csv('neurips_info.csv', index=None)"
   ]
  },
  {
   "cell_type": "code",
   "execution_count": 25,
   "id": "770bf21e-d4e8-435d-a48e-1d49696f9a72",
   "metadata": {},
   "outputs": [
    {
     "data": {
      "text/plain": [
       "''"
      ]
     },
     "execution_count": 25,
     "metadata": {},
     "output_type": "execute_result"
    }
   ],
   "source": [
    "paper_dict['authors']"
   ]
  },
  {
   "cell_type": "code",
   "execution_count": 14,
   "id": "ee4dd8a2-a9bc-4a22-80b5-f85cf9b237e9",
   "metadata": {},
   "outputs": [],
   "source": [
    "Base.metadata.drop_all(engine)"
   ]
  },
  {
   "cell_type": "code",
   "execution_count": 13,
   "id": "540892b1-3027-4132-acfa-96499b7a2116",
   "metadata": {},
   "outputs": [
    {
     "data": {
      "text/plain": [
       "3318"
      ]
     },
     "execution_count": 13,
     "metadata": {},
     "output_type": "execute_result"
    }
   ],
   "source": [
    "(df.abstract == \"Abstract Unavailable\").sum()"
   ]
  },
  {
   "cell_type": "code",
   "execution_count": 28,
   "id": "f8c53926-eed8-400c-af73-6d905efff46c",
   "metadata": {},
   "outputs": [],
   "source": [
    "session.commit()"
   ]
  },
  {
   "cell_type": "code",
   "execution_count": null,
   "id": "a7adc4db-0ca0-4bfa-99cd-410db4f2dbb2",
   "metadata": {},
   "outputs": [],
   "source": []
  }
 ],
 "metadata": {
  "kernelspec": {
   "display_name": "Python 3 (ipykernel)",
   "language": "python",
   "name": "python3"
  },
  "language_info": {
   "codemirror_mode": {
    "name": "ipython",
    "version": 3
   },
   "file_extension": ".py",
   "mimetype": "text/x-python",
   "name": "python",
   "nbconvert_exporter": "python",
   "pygments_lexer": "ipython3",
   "version": "3.9.5"
  }
 },
 "nbformat": 4,
 "nbformat_minor": 5
}
